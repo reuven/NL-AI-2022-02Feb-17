{
 "cells": [
  {
   "cell_type": "markdown",
   "metadata": {},
   "source": [
    "# Agenda: Dates and times in Pandas!\n",
    "\n",
    "1. Dates and times in programming\n",
    "2. Parsing dates with Pandas\n",
    "3. The `.dt` accessor\n",
    "4. Loading multiple files into a single data frame\n",
    "5. How can you parse odd date formats?\n",
    "6. Grouping with dates\n",
    "7. Time deltas\n",
    "8. Time series\n",
    "9. Resampling"
   ]
  },
  {
   "cell_type": "markdown",
   "metadata": {},
   "source": [
    "# Dates and times in programming\n",
    "\n",
    "The most natural (and reasonable) way to "
   ]
  }
 ],
 "metadata": {
  "kernelspec": {
   "display_name": "Python 3 (ipykernel)",
   "language": "python",
   "name": "python3"
  },
  "language_info": {
   "codemirror_mode": {
    "name": "ipython",
    "version": 3
   },
   "file_extension": ".py",
   "mimetype": "text/x-python",
   "name": "python",
   "nbconvert_exporter": "python",
   "pygments_lexer": "ipython3",
   "version": "3.10.2"
  }
 },
 "nbformat": 4,
 "nbformat_minor": 4
}
